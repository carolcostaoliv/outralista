{
 "cells": [
  {
   "cell_type": "code",
   "execution_count": null,
   "id": "e32d75f8",
   "metadata": {},
   "outputs": [],
   "source": [
    "#01\n",
    "\n",
    "a = float(input(\"Digite quatro números inteiros:\\n\"))\n",
    "b = float(input())\n",
    "if a > b:\n",
    "    print (a)\n",
    "if b > a:\n",
    "    print (b)\n",
    "else:\n",
    "    print (\"Números iguais\")"
   ]
  },
  {
   "cell_type": "code",
   "execution_count": null,
   "id": "bf9abfa1",
   "metadata": {},
   "outputs": [
    {
     "name": "stdout",
     "output_type": "stream",
     "text": [
      "Mádia = 73.25\n",
      "Números menores que a média:\n",
      " 58.0\n",
      "Números maiores que a média:\n",
      " 80.0\n",
      "Números maiores que a média:\n",
      " 90.0\n",
      "Números menores que a média:\n",
      " 65.0\n"
     ]
    }
   ],
   "source": [
    "#2\n",
    "\n",
    "nota1 = int(input(\"Digite quatro números inteiros:\\n\"))\n",
    "nota2 = int(input())\n",
    "nota3 = int(input())\n",
    "nota4 = int(input())\n",
    "\n",
    "media = (nota1 + nota2 + nota3 + nota4)/4\n",
    "\n",
    "l = [nota1, nota2, nota3, nota4]\n",
    "\n",
    "\n",
    "print(f\"Mádia = {media}\")\n",
    "\n",
    "for i in l:\n",
    "    if i > media:\n",
    "        print(f\"Números maiores que a média:\\n{i}\")\n",
    "    elif i < media:\n",
    "        print(f\"Números menores que a média:\\n{i}\")\n",
    "    else:\n",
    "        print(f\"Números iguais a média\\n{i}\")"
   ]
  },
  {
   "cell_type": "code",
   "execution_count": 4,
   "id": "bc2edaee",
   "metadata": {},
   "outputs": [
    {
     "name": "stdout",
     "output_type": "stream",
     "text": [
      "Soma do números pares = 6\n",
      "Soma do números ímpares = 4\n"
     ]
    }
   ],
   "source": [
    "#3\n",
    "\n",
    "n1 = int(input())\n",
    "n2 = int(input())\n",
    "n3 = int(input())\n",
    "n4 = int(input())\n",
    "\n",
    "li = [n1, n2, n3, n4]\n",
    "par = 0\n",
    "imp = 0\n",
    "for i in li:\n",
    "    if i % 2 == 0:\n",
    "        par += i\n",
    "    elif i % 2 != 0:\n",
    "        imp += i\n",
    "\n",
    "print (f\"Soma do números pares = {par}\")\n",
    "print (f\"Soma do números ímpares = {imp}\")"
   ]
  },
  {
   "cell_type": "code",
   "execution_count": null,
   "id": "91b06f79",
   "metadata": {},
   "outputs": [
    {
     "ename": "ValueError",
     "evalue": "invalid literal for int() with base 10: '04:40'",
     "output_type": "error",
     "traceback": [
      "\u001b[31m---------------------------------------------------------------------------\u001b[39m",
      "\u001b[31mValueError\u001b[39m                                Traceback (most recent call last)",
      "\u001b[36mCell\u001b[39m\u001b[36m \u001b[39m\u001b[32mIn[5]\u001b[39m\u001b[32m, line 3\u001b[39m\n\u001b[32m      1\u001b[39m \u001b[38;5;66;03m#4\u001b[39;00m\n\u001b[32m----> \u001b[39m\u001b[32m3\u001b[39m h1 = \u001b[38;5;28;43mint\u001b[39;49m\u001b[43m(\u001b[49m\u001b[38;5;28;43minput\u001b[39;49m\u001b[43m(\u001b[49m\u001b[43m)\u001b[49m\u001b[43m)\u001b[49m\n\u001b[32m      4\u001b[39m h2 = \u001b[38;5;28mint\u001b[39m(\u001b[38;5;28minput\u001b[39m())\n\u001b[32m      6\u001b[39m \u001b[38;5;28mprint\u001b[39m (\u001b[33mf\u001b[39m\u001b[33m\"\u001b[39m\u001b[38;5;132;01m{\u001b[39;00mh1\u001b[38;5;132;01m}\u001b[39;00m\u001b[38;5;130;01m\\n\u001b[39;00m\u001b[33m \u001b[39m\u001b[38;5;132;01m{\u001b[39;00mh2\u001b[38;5;132;01m}\u001b[39;00m\u001b[33m\"\u001b[39m)\n",
      "\u001b[31mValueError\u001b[39m: invalid literal for int() with base 10: '04:40'"
     ]
    }
   ],
   "source": [
    "#4\n",
    "\n",
    "def soma_horarios(hora1, hora2):\n",
    "    # Converte o primeiro horário em minutos\n",
    "    h1, m1 = map(int, hora1.split(':'))\n",
    "    minutos1 = h1 * 60 + m1\n",
    "    \n",
    "    # Converte o segundo horário em minutos\n",
    "    h2, m2 = map(int, hora2.split(':'))\n",
    "    minutos2 = h2 * 60 + m2\n",
    "    \n",
    "    # Soma os minutos\n",
    "    total_minutos = minutos1 + minutos2\n",
    "    \n",
    "    # Calcula o total de horas e minutos\n",
    "    total_horas = total_minutos // 60\n",
    "    total_minutos = total_minutos % 60\n",
    "    \n",
    "    return f\"Total de horas = {total_horas:02}:{total_minutos:02}\"\n",
    "\n",
    "# Testando com os valores fornecidos\n",
    "hora1 = \"03:30\"\n",
    "hora2 = \"04:40\"\n",
    "resultado = soma_horarios(hora1, hora2)\n",
    "print(resultado)"
   ]
  }
 ],
 "metadata": {
  "kernelspec": {
   "display_name": ".venv",
   "language": "python",
   "name": "python3"
  },
  "language_info": {
   "codemirror_mode": {
    "name": "ipython",
    "version": 3
   },
   "file_extension": ".py",
   "mimetype": "text/x-python",
   "name": "python",
   "nbconvert_exporter": "python",
   "pygments_lexer": "ipython3",
   "version": "3.12.1"
  }
 },
 "nbformat": 4,
 "nbformat_minor": 5
}
